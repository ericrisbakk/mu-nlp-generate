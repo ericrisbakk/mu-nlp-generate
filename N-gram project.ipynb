{
 "cells": [
  {
   "cell_type": "code",
   "execution_count": 105,
   "metadata": {},
   "outputs": [],
   "source": [
    "import math, collections\n",
    "from audioop import avg\n",
    "from builtins import print\n",
    "from random import randint\n",
    "from random import random\n",
    "from textatistic import Textatistic\n",
    "import pandas as pd"
   ]
  },
  {
   "cell_type": "code",
   "execution_count": 111,
   "metadata": {},
   "outputs": [],
   "source": [
    "gramNumber = 3  # N-gram\n",
    "lyricsSize = 100"
   ]
  },
  {
   "cell_type": "code",
   "execution_count": 112,
   "metadata": {},
   "outputs": [],
   "source": [
    "countsOfList = []\n",
    "for i in range(gramNumber):\n",
    "    countsOfList.append(collections.defaultdict(lambda: 0))"
   ]
  },
  {
   "cell_type": "code",
   "execution_count": 113,
   "metadata": {},
   "outputs": [
    {
     "name": "stdout",
     "output_type": "stream",
     "text": [
      "3\n"
     ]
    }
   ],
   "source": [
    "print(len(countsOfList))"
   ]
  },
  {
   "cell_type": "code",
   "execution_count": 114,
   "metadata": {},
   "outputs": [],
   "source": [
    "corpus = pd.read_csv(\"ProcessedSongData.csv\")\n",
    "data = corpus.text"
   ]
  },
  {
   "cell_type": "code",
   "execution_count": 115,
   "metadata": {},
   "outputs": [],
   "source": [
    "bag = tokenize(data)\n",
    "#generate word counts\n",
    "for j in range(gramNumber):\n",
    "    for i in range(len(data)):\n",
    "        words = []\n",
    "        for p in range(j):\n",
    "            words = words + [\"<s>\"]\n",
    "            words = words + data[i].split()\n",
    "\n",
    "            for l in range(j, len(words)):\n",
    "                token = words[l]\n",
    "                for k in range(1,j+1):\n",
    "                    token = words[l - k] + \" \" + token\n",
    "                countsOfList[j][token] = countsOfList[j][token] + 1"
   ]
  },
  {
   "cell_type": "code",
   "execution_count": 116,
   "metadata": {},
   "outputs": [
    {
     "ename": "KeyboardInterrupt",
     "evalue": "",
     "output_type": "error",
     "traceback": [
      "\u001b[1;31m---------------------------------------------------------------------------\u001b[0m",
      "\u001b[1;31mKeyboardInterrupt\u001b[0m                         Traceback (most recent call last)",
      "\u001b[1;32m<ipython-input-116-8bd1bf3ac01f>\u001b[0m in \u001b[0;36m<module>\u001b[1;34m\u001b[0m\n\u001b[0;32m     24\u001b[0m                 \u001b[0mnewKey\u001b[0m \u001b[1;33m=\u001b[0m \u001b[1;34m\"\"\u001b[0m\u001b[1;33m\u001b[0m\u001b[0m\n\u001b[0;32m     25\u001b[0m                 \u001b[0mkeyAsList\u001b[0m \u001b[1;33m=\u001b[0m \u001b[0mkey\u001b[0m\u001b[1;33m.\u001b[0m\u001b[0msplit\u001b[0m\u001b[1;33m(\u001b[0m\u001b[1;33m)\u001b[0m\u001b[1;33m\u001b[0m\u001b[0m\n\u001b[1;32m---> 26\u001b[1;33m                 \u001b[0mnewKey\u001b[0m \u001b[1;33m+=\u001b[0m \u001b[0mkeyAsList\u001b[0m\u001b[1;33m[\u001b[0m\u001b[1;36m0\u001b[0m\u001b[1;33m]\u001b[0m\u001b[1;33m\u001b[0m\u001b[0m\n\u001b[0m\u001b[0;32m     27\u001b[0m                 \u001b[1;32mfor\u001b[0m \u001b[0mq\u001b[0m \u001b[1;32min\u001b[0m \u001b[0mrange\u001b[0m\u001b[1;33m(\u001b[0m\u001b[1;36m1\u001b[0m\u001b[1;33m,\u001b[0m\u001b[0mlen\u001b[0m\u001b[1;33m(\u001b[0m\u001b[0mkeyAsList\u001b[0m\u001b[1;33m)\u001b[0m\u001b[1;33m-\u001b[0m\u001b[1;36m1\u001b[0m\u001b[1;33m)\u001b[0m\u001b[1;33m:\u001b[0m\u001b[1;33m\u001b[0m\u001b[0m\n\u001b[0;32m     28\u001b[0m                     \u001b[0mnewKey\u001b[0m \u001b[1;33m=\u001b[0m \u001b[0mnewKey\u001b[0m \u001b[1;33m+\u001b[0m \u001b[1;34m\" \"\u001b[0m \u001b[1;33m+\u001b[0m \u001b[0mkeyAsList\u001b[0m\u001b[1;33m[\u001b[0m\u001b[0mq\u001b[0m\u001b[1;33m]\u001b[0m\u001b[1;33m\u001b[0m\u001b[0m\n",
      "\u001b[1;31mKeyboardInterrupt\u001b[0m: "
     ]
    }
   ],
   "source": [
    "lyrics = []\n",
    "for i in range(gramNumber - 1):\n",
    "    lyrics.append(\"<s>\")\n",
    "\n",
    "if(len(lyrics) < 1):\n",
    "    r = randint(0, len(bag)-1)\n",
    "    lyrics.append(bag[r])\n",
    "\n",
    "while len(lyrics) < lyricsSize:\n",
    "    toMatch = lyrics[len(lyrics)-1]\n",
    "\n",
    "    found = False\n",
    "    for i in range(gramNumber):\n",
    "        if(i >= gramNumber -1):\n",
    "            r = randint(0, len(bag) - 1)\n",
    "            lyrics.append(bag[r])\n",
    "\n",
    "        for t in range(len(lyrics) - 1 - (gramNumber - i - 1), len(lyrics) - 1):\n",
    "            toMatch = lyrics[t] + \" \" + toMatch\n",
    "\n",
    "            toAdd = \"\"\n",
    "            bestScore = 0\n",
    "            for key in countsOfList[gramNumber - i -1]:\n",
    "                newKey = \"\"\n",
    "                keyAsList = key.split()\n",
    "                newKey += keyAsList[0]\n",
    "                for q in range(1,len(keyAsList)-1):\n",
    "                    newKey = newKey + \" \" + keyAsList[q]\n",
    "\n",
    "                if toMatch == newKey:\n",
    "                    if(randint(1,10) > 9):\n",
    "                        bestScore = countsOfList[gramNumber - i - 1].get(key)\n",
    "                        toAdd = keyAsList[len(keyAsList) - 1]\n",
    "                    if countsOfList[gramNumber - i -1].get(key) > bestScore:\n",
    "                        bestScore = countsOfList[gramNumber - i-1].get(key)\n",
    "                        toAdd = keyAsList[len(keyAsList)-1]\n",
    "\n",
    "            if(not found and bestScore > 0):\n",
    "                found = True\n",
    "                lyrics.append(toAdd)\n",
    "                i = gramNumber + 1\n",
    "\n",
    "            if found:\n",
    "                break"
   ]
  },
  {
   "cell_type": "code",
   "execution_count": null,
   "metadata": {},
   "outputs": [],
   "source": [
    "lyricsString = lyrics[gramNumber - 1]\n",
    "for i in range(gramNumber, len(lyrics)):\n",
    "    lyricsString = lyricsString + \" \" + lyrics[i]\n",
    "lyricsString = lyricsString + \".\"\n",
    "print(lyricsString)"
   ]
  },
  {
   "cell_type": "code",
   "execution_count": 95,
   "metadata": {},
   "outputs": [
    {
     "name": "stdout",
     "output_type": "stream",
     "text": [
      "-59.680526315789464\n"
     ]
    }
   ],
   "source": [
    "score(lyricsString)"
   ]
  },
  {
   "cell_type": "code",
   "execution_count": 6,
   "metadata": {},
   "outputs": [],
   "source": [
    "def tokenize(data):\n",
    "    bag = []\n",
    "    for i in range(len(data)):\n",
    "\n",
    "        words = data[i].split()\n",
    "        for w in words:\n",
    "            bag.append(w)\n",
    "\n",
    "    bag = sorted(list(set(bag)))\n",
    "    return bag"
   ]
  },
  {
   "cell_type": "code",
   "execution_count": 12,
   "metadata": {},
   "outputs": [],
   "source": [
    "def score(lyrics):\n",
    "    s = Textatistic(lyrics)\n",
    "    print(s.flesch_score)"
   ]
  },
  {
   "cell_type": "code",
   "execution_count": null,
   "metadata": {},
   "outputs": [],
   "source": []
  }
 ],
 "metadata": {
  "kernelspec": {
   "display_name": "Python 3",
   "language": "python",
   "name": "python3"
  }
 },
 "nbformat": 4,
 "nbformat_minor": 2
}
